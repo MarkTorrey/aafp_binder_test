{
 "cells": [
  {
   "cell_type": "code",
   "execution_count": 1,
   "metadata": {},
   "outputs": [],
   "source": [
    "from arcgis.gis import GIS"
   ]
  },
  {
   "cell_type": "code",
   "execution_count": 3,
   "metadata": {},
   "outputs": [],
   "source": [
    "gis = GIS()\n",
    "public_content = gis.content.search(\"Fire\", item_type=\"Feature Layer\", max_items=5)"
   ]
  },
  {
   "cell_type": "code",
   "execution_count": 7,
   "metadata": {},
   "outputs": [
    {
     "name": "stdout",
     "output_type": "stream",
     "text": [
      "Search returned 5 items\n"
     ]
    }
   ],
   "source": [
    "print(f\"Search returned {len(public_content)} items\")"
   ]
  },
  {
   "cell_type": "code",
   "execution_count": 8,
   "metadata": {},
   "outputs": [
    {
     "data": {
      "text/html": [
       "<div class=\"item_container\" style=\"height: auto; overflow: hidden; border: 1px solid #cfcfcf; border-radius: 2px; background: #f6fafa; line-height: 1.21429em; padding: 10px;\">\n",
       "                    <div class=\"item_left\" style=\"width: 210px; float: left;\">\n",
       "                       <a href='https://www.arcgis.com/home/item.html?id=dece90af1a0242dcbf0ca36d30276aa3' target='_blank'>\n",
       "                        <img src='https://www.arcgis.com/sharing/rest//content/items/dece90af1a0242dcbf0ca36d30276aa3/info/thumbnail/thumbnail1586453756149.png' class=\"itemThumbnail\">\n",
       "                       </a>\n",
       "                    </div>\n",
       "\n",
       "                    <div class=\"item_right\"     style=\"float: none; width: auto; overflow: hidden;\">\n",
       "                        <a href='https://www.arcgis.com/home/item.html?id=dece90af1a0242dcbf0ca36d30276aa3' target='_blank'><b>Satellite (VIIRS) Thermal Hotspots and Fire Activity</b>\n",
       "                        </a>\n",
       "                        <br/>Thermal activity detected by the VIIRS sensors on the NOAA/NASA Suomi NPP and NOAA-20 satellites during the last 7 days.<img src='https://www.arcgis.com/home/js/jsapi/esri/css/images/item_type_icons/featureshosted16.png' style=\"vertical-align:middle;\">Feature Layer Collection by esri_livefeeds2\n",
       "                        <br/>Last Modified: January 19, 2023\n",
       "                        <br/>71 comments, 79969443 views\n",
       "                    </div>\n",
       "                </div>\n",
       "                "
      ],
      "text/plain": [
       "<Item title:\"Satellite (VIIRS) Thermal Hotspots and Fire Activity\" type:Feature Layer Collection owner:esri_livefeeds2>"
      ]
     },
     "metadata": {},
     "output_type": "display_data"
    },
    {
     "data": {
      "text/html": [
       "<div class=\"item_container\" style=\"height: auto; overflow: hidden; border: 1px solid #cfcfcf; border-radius: 2px; background: #f6fafa; line-height: 1.21429em; padding: 10px;\">\n",
       "                    <div class=\"item_left\" style=\"width: 210px; float: left;\">\n",
       "                       <a href='https://www.arcgis.com/home/item.html?id=d957997ccee7408287a963600a77f61f' target='_blank'>\n",
       "                        <img src='https://www.arcgis.com/sharing/rest//content/items/d957997ccee7408287a963600a77f61f/info/thumbnail/thumbnail1589394128160.jpeg' class=\"itemThumbnail\">\n",
       "                       </a>\n",
       "                    </div>\n",
       "\n",
       "                    <div class=\"item_right\"     style=\"float: none; width: auto; overflow: hidden;\">\n",
       "                        <a href='https://www.arcgis.com/home/item.html?id=d957997ccee7408287a963600a77f61f' target='_blank'><b>USA Current Wildfires</b>\n",
       "                        </a>\n",
       "                        <br/>This layer shows wildfires that have been updated within the past 7 days in the United States from IRWIN and NIFC information.<img src='https://www.arcgis.com/home/js/jsapi/esri/css/images/item_type_icons/featureshosted16.png' style=\"vertical-align:middle;\">Feature Layer Collection by esri_livefeeds2\n",
       "                        <br/>Last Modified: January 19, 2023\n",
       "                        <br/>224 comments, 152511734 views\n",
       "                    </div>\n",
       "                </div>\n",
       "                "
      ],
      "text/plain": [
       "<Item title:\"USA Current Wildfires\" type:Feature Layer Collection owner:esri_livefeeds2>"
      ]
     },
     "metadata": {},
     "output_type": "display_data"
    },
    {
     "data": {
      "text/html": [
       "<div class=\"item_container\" style=\"height: auto; overflow: hidden; border: 1px solid #cfcfcf; border-radius: 2px; background: #f6fafa; line-height: 1.21429em; padding: 10px;\">\n",
       "                    <div class=\"item_left\" style=\"width: 210px; float: left;\">\n",
       "                       <a href='https://www.arcgis.com/home/item.html?id=a6134ae01aad44c499d12feec782b386' target='_blank'>\n",
       "                        <img src='https://www.arcgis.com/sharing/rest//content/items/a6134ae01aad44c499d12feec782b386/info/thumbnail/thumbnail1560897974595.jpeg' class=\"itemThumbnail\">\n",
       "                       </a>\n",
       "                    </div>\n",
       "\n",
       "                    <div class=\"item_right\"     style=\"float: none; width: auto; overflow: hidden;\">\n",
       "                        <a href='https://www.arcgis.com/home/item.html?id=a6134ae01aad44c499d12feec782b386' target='_blank'><b>USA Weather Watches and Warnings</b>\n",
       "                        </a>\n",
       "                        <br/>A live data feed from the National Weather Service containing official weather warnings, watches, and advisory statements for the United States.<img src='https://www.arcgis.com/home/js/jsapi/esri/css/images/item_type_icons/featureshosted16.png' style=\"vertical-align:middle;\">Feature Layer Collection by esri_livefeeds2\n",
       "                        <br/>Last Modified: September 12, 2022\n",
       "                        <br/>75 comments, 97573647 views\n",
       "                    </div>\n",
       "                </div>\n",
       "                "
      ],
      "text/plain": [
       "<Item title:\"USA Weather Watches and Warnings\" type:Feature Layer Collection owner:esri_livefeeds2>"
      ]
     },
     "metadata": {},
     "output_type": "display_data"
    },
    {
     "data": {
      "text/html": [
       "<div class=\"item_container\" style=\"height: auto; overflow: hidden; border: 1px solid #cfcfcf; border-radius: 2px; background: #f6fafa; line-height: 1.21429em; padding: 10px;\">\n",
       "                    <div class=\"item_left\" style=\"width: 210px; float: left;\">\n",
       "                       <a href='https://www.arcgis.com/home/item.html?id=bad87ec08d394721a032cd97a0f640a7' target='_blank'>\n",
       "                        <img src='https://www.arcgis.com/sharing/rest//content/items/bad87ec08d394721a032cd97a0f640a7/info/thumbnail/thumbnail1581091284604.png' class=\"itemThumbnail\">\n",
       "                       </a>\n",
       "                    </div>\n",
       "\n",
       "                    <div class=\"item_right\"     style=\"float: none; width: auto; overflow: hidden;\">\n",
       "                        <a href='https://www.arcgis.com/home/item.html?id=bad87ec08d394721a032cd97a0f640a7' target='_blank'><b>OpenStreetMap Amenities for North America</b>\n",
       "                        </a>\n",
       "                        <br/>This feature layer provides access to OpenStreetMap amenities data for North America, which is updated frequently. Zoom in to large scales (e.g. 1:80k) to see the amenity features display. Click on feature for popup.<img src='https://www.arcgis.com/home/js/jsapi/esri/css/images/item_type_icons/featureshosted16.png' style=\"vertical-align:middle;\">Feature Layer Collection by smoore_osm\n",
       "                        <br/>Last Modified: April 30, 2020\n",
       "                        <br/>0 comments, 155487 views\n",
       "                    </div>\n",
       "                </div>\n",
       "                "
      ],
      "text/plain": [
       "<Item title:\"OpenStreetMap Amenities for North America\" type:Feature Layer Collection owner:smoore_osm>"
      ]
     },
     "metadata": {},
     "output_type": "display_data"
    },
    {
     "data": {
      "text/html": [
       "<div class=\"item_container\" style=\"height: auto; overflow: hidden; border: 1px solid #cfcfcf; border-radius: 2px; background: #f6fafa; line-height: 1.21429em; padding: 10px;\">\n",
       "                    <div class=\"item_left\" style=\"width: 210px; float: left;\">\n",
       "                       <a href='https://www.arcgis.com/home/item.html?id=b8f4033069f141729ffb298b7418b653' target='_blank'>\n",
       "                        <img src='https://www.arcgis.com/sharing/rest//content/items/b8f4033069f141729ffb298b7418b653/info/thumbnail/thumbnail1560896788298.jpeg' class=\"itemThumbnail\">\n",
       "                       </a>\n",
       "                    </div>\n",
       "\n",
       "                    <div class=\"item_right\"     style=\"float: none; width: auto; overflow: hidden;\">\n",
       "                        <a href='https://www.arcgis.com/home/item.html?id=b8f4033069f141729ffb298b7418b653' target='_blank'><b>Satellite (MODIS) Thermal Hotspots and Fire Activity</b>\n",
       "                        </a>\n",
       "                        <br/>Thermal activity detected by the MODIS sensors on the NASA Aqua and Terra satellites during the last 48 hours and 7 days.<img src='https://www.arcgis.com/home/js/jsapi/esri/css/images/item_type_icons/featureshosted16.png' style=\"vertical-align:middle;\">Feature Layer Collection by esri_livefeeds2\n",
       "                        <br/>Last Modified: January 19, 2023\n",
       "                        <br/>28 comments, 76871963 views\n",
       "                    </div>\n",
       "                </div>\n",
       "                "
      ],
      "text/plain": [
       "<Item title:\"Satellite (MODIS) Thermal Hotspots and Fire Activity\" type:Feature Layer Collection owner:esri_livefeeds2>"
      ]
     },
     "metadata": {},
     "output_type": "display_data"
    }
   ],
   "source": [
    "for item in public_content:\n",
    "    display(item)"
   ]
  },
  {
   "cell_type": "code",
   "execution_count": null,
   "metadata": {},
   "outputs": [],
   "source": []
  }
 ],
 "metadata": {
  "kernelspec": {
   "display_name": "Python 3",
   "language": "python",
   "name": "python3"
  },
  "language_info": {
   "codemirror_mode": {
    "name": "ipython",
    "version": 3
   },
   "file_extension": ".py",
   "mimetype": "text/x-python",
   "name": "python",
   "nbconvert_exporter": "python",
   "pygments_lexer": "ipython3",
   "version": "3.9.11"
  },
  "orig_nbformat": 4,
  "vscode": {
   "interpreter": {
    "hash": "605e42e9b283ad0980ff68ef4e653194820db40ca2df6b114a5d5be9a2d75e25"
   }
  }
 },
 "nbformat": 4,
 "nbformat_minor": 2
}
