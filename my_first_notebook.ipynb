from arcgis.gis import GIS

gis = GIS()

public_content = gis.content.search("Fire", item_type="Feature Layer", max_items=5)

for item in public_content:
  display(item)
